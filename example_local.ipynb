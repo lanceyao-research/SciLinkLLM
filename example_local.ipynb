{
 "cells": [
  {
   "cell_type": "markdown",
   "id": "087dad7f-c2f7-40b4-a938-45700ea52a45",
   "metadata": {},
   "source": [
    "Need to install pytorch and transformers first.\n",
    "The weights files are on the hard drive."
   ]
  },
  {
   "cell_type": "code",
   "execution_count": 1,
   "id": "d4682c0e-aa57-4c8e-8a66-f5e5528e6da5",
   "metadata": {},
   "outputs": [
    {
     "name": "stderr",
     "output_type": "stream",
     "text": [
      "2025-04-30 13:46:13,252 - INFO - --- Starting Image Analysis for Scientific Claims ---\n",
      "2025-04-30 13:46:13,253 - INFO - Initializing analysis agent with model: gemma3_12B_local\n"
     ]
    },
    {
     "data": {
      "application/vnd.jupyter.widget-view+json": {
       "model_id": "d2f9e79592b3430c9df11a8373400a0e",
       "version_major": 2,
       "version_minor": 0
      },
      "text/plain": [
       "Loading checkpoint shards:   0%|          | 0/11 [00:00<?, ?it/s]"
      ]
     },
     "metadata": {},
     "output_type": "display_data"
    },
    {
     "name": "stderr",
     "output_type": "stream",
     "text": [
      "Using a slow image processor as `use_fast` is unset and a slow processor was saved with this model. `use_fast=True` will be the default behavior in v4.52, even if the model was saved with a slow processor. This will result in minor differences in outputs. You'll still be able to use a slow processor with `use_fast=False`.\n",
      "2025-04-30 13:46:23,576 - INFO - Analyzing image for claims: data/oxide_catalyst.npy...\n",
      "2025-04-30 13:46:23,616 - INFO - Attempting to get FFT/NMF parameters from LLM...\n",
      "/home/yaol750/.local/lib/python3.12/site-packages/transformers/generation/configuration_utils.py:636: UserWarning: `do_sample` is set to `False`. However, `top_p` is set to `0.95` -- this flag is only used in sample-based generation modes. You should set `do_sample=True` or unset `top_p`.\n",
      "  warnings.warn(\n",
      "/home/yaol750/.local/lib/python3.12/site-packages/transformers/generation/configuration_utils.py:653: UserWarning: `do_sample` is set to `False`. However, `top_k` is set to `64` -- this flag is only used in sample-based generation modes. You should set `do_sample=True` or unset `top_k`.\n",
      "  warnings.warn(\n"
     ]
    },
    {
     "name": "stdout",
     "output_type": "stream",
     "text": [
      "Image resized from 2048x2048 to 256x256 to fit model context window\n"
     ]
    },
    {
     "name": "stderr",
     "output_type": "stream",
     "text": [
      "2025-04-30 13:46:29,304 - INFO - LLM successfully suggested parameters: window_size=64, n_components=3\n",
      "2025-04-30 13:46:29,304 - INFO - LLM Explanation for FFT/NMF params: The image shows a complex, heterogeneous microstructure likely arising from the multi-component oxide material. The lattice fringes suggest a periodic structure, but the overall morphology is irregular and contains regions with varying contrast. A window size of 64 allows capturing several lattice repetitions while remaining small enough to resolve local variations. Three components are suggested to account for the background, the primary lattice pattern, and potentially a secondary phase or defect structure visible within the material.\n",
      "2025-04-30 13:46:29,305 - INFO - --- Starting Sliding FFT + NMF Analysis ---\n"
     ]
    },
    {
     "name": "stdout",
     "output_type": "stream",
     "text": [
      "Warning: Removing unexpected 'json' from LLM output.\n",
      "Warning: Removing Markdown code block backticks (``` ) from LLM output.\n",
      "Reading image: data/oxide_catalyst.npy\n",
      "Creating windows...\n",
      "Created 125×125 = 15625 windows\n",
      "Computing FFTs...\n",
      "Running NMF analysis...\n"
     ]
    },
    {
     "name": "stderr",
     "output_type": "stream",
     "text": [
      "2025-04-30 13:46:45,019 - INFO - FFT+NMF analysis complete. Components shape: (3, 64, 64), Abundances shape: (3, 125, 125)\n",
      "2025-04-30 13:46:45,019 - INFO - Adding 3 NMF components/abundances as PIL images to prompt.\n"
     ]
    },
    {
     "name": "stdout",
     "output_type": "stream",
     "text": [
      "Saving NumPy arrays...\n"
     ]
    },
    {
     "name": "stderr",
     "output_type": "stream",
     "text": [
      "/home/yaol750/.local/lib/python3.12/site-packages/transformers/generation/configuration_utils.py:636: UserWarning: `do_sample` is set to `False`. However, `top_p` is set to `0.95` -- this flag is only used in sample-based generation modes. You should set `do_sample=True` or unset `top_p`.\n",
      "  warnings.warn(\n",
      "/home/yaol750/.local/lib/python3.12/site-packages/transformers/generation/configuration_utils.py:653: UserWarning: `do_sample` is set to `False`. However, `top_k` is set to `64` -- this flag is only used in sample-based generation modes. You should set `do_sample=True` or unset `top_k`.\n",
      "  warnings.warn(\n",
      "2025-04-30 13:47:33,283 - INFO - --- Analysis Result Received ---\n",
      "2025-04-30 13:47:33,284 - INFO - Claims saved to: generated_claims.json\n",
      "2025-04-30 13:47:33,285 - INFO - --- End Claims Generation Workflow ---\n"
     ]
    },
    {
     "name": "stdout",
     "output_type": "stream",
     "text": [
      "<class 'dict'>\n",
      "{'claim': 'The HAADF-STEM image of the Mo-V-Te-Ta oxide catalyst reveals a region exhibiting a four-fold symmetry in its spatial frequency distribution, as evidenced by NMF Component 2.', 'scientific_impact': 'Identifying a four-fold symmetry suggests the presence of a specific crystalline structure or arrangement of atoms, which could be related to the catalytic activity of the material. Understanding the nature of this structure is crucial for optimizing catalyst performance.', 'has_anyone': 'Has anyone observed similar four-fold symmetry patterns in other Mo-V-Te-Ta oxide catalysts and correlated them with specific catalytic properties?', 'keywords': ['Mo-V-Te-Ta oxide', 'HAADF-STEM', 'NMF', 'Four-fold symmetry', 'Crystalline structure']}\n",
      "<class 'dict'>\n",
      "{'claim': 'The NMF analysis of the Mo-V-Te-Ta oxide material indicates a significant heterogeneity in its microstructure, characterized by the presence of three distinct spatial frequency components.', 'scientific_impact': \"Microstructural heterogeneity can significantly impact the material's properties, including its catalytic activity and stability. Identifying and characterizing these different components is essential for understanding the material's behavior.\", 'has_anyone': 'Has anyone investigated the relationship between the degree of microstructural heterogeneity in Mo-V-Te-Ta oxides and their catalytic performance?', 'keywords': ['Mo-V-Te-Ta oxide', 'NMF', 'Microstructure', 'Heterogeneity', 'Spatial frequency']}\n",
      "<class 'dict'>\n",
      "{'claim': 'The broad, low-frequency pattern observed in NMF Component 1 suggests a weakly modulated background structure within the Mo-V-Te-Ta oxide material.', 'scientific_impact': 'This background structure could represent a disordered phase or a weakly crystalline region, which may influence the overall properties of the material. Further investigation is needed to determine its composition and structure.', 'has_anyone': 'Has anyone identified the origin of this low-frequency background pattern in similar oxide materials?', 'keywords': ['Mo-V-Te-Ta oxide', 'NMF', 'Low frequency', 'Background structure', 'Disorder']}\n",
      "<class 'dict'>\n",
      "{'claim': 'The HAADF-STEM image shows a generally amorphous or poorly crystalline region within the Mo-V-Te-Ta oxide material, suggesting a lack of long-range order.', 'scientific_impact': 'The amorphous nature of the material could be related to its synthesis conditions or the presence of defects. Understanding the degree of crystallinity is important for predicting its behavior.', 'has_anyone': 'Has anyone correlated the degree of crystallinity in Mo-V-Te-Ta oxides with their catalytic activity and selectivity?', 'keywords': ['Mo-V-Te-Ta oxide', 'HAADF-STEM', 'Amorphous', 'Crystallinity', 'Long-range order']}\n",
      "<class 'dict'>\n",
      "{'claim': 'The spatial distribution of NMF Component 3, characterized by a dispersed pattern, suggests a heterogeneous distribution of a specific structural feature within the Mo-V-Te-Ta oxide material.', 'scientific_impact': \"This heterogeneous distribution could be related to the segregation of different elements or the formation of different phases, which can impact the material's properties.\", 'has_anyone': 'Has anyone observed similar dispersed spatial distributions of structural features in other complex oxide materials?', 'keywords': ['Mo-V-Te-Ta oxide', 'NMF', 'Heterogeneous distribution', 'Spatial pattern', 'Structural feature']}\n",
      "\n",
      "--- Analysis Summary ---\n",
      "The provided High-Angle Annular Dark-Field Scanning Transmission Electron Microscopy (HAADF-STEM) image reveals a complex microstructure within the Mo-V-Te-Ta oxide material. The HAADF-STEM technique provides Z-contrast, meaning heavier elements appear brighter. The image shows a generally amorphous or poorly crystalline region, with some areas exhibiting more ordered structures. The NMF analysis reveals three dominant spatial frequency patterns. NMF Component 1 shows a broad, low-frequency pattern with a corresponding abundance map indicating a relatively uniform distribution across the image, suggesting a background feature or a weakly modulated structure. NMF Component 2 exhibits a higher frequency pattern with a distinct four-fold symmetry in the frequency space, and its abundance map shows a localized region of higher intensity. This suggests a region with a more ordered structure, potentially related to a crystalline phase or a specific arrangement of atoms. NMF Component 3 shows a complex frequency pattern with multiple peaks and its abundance map shows a more dispersed distribution, possibly indicating a more heterogeneous or disordered region. The presence of multiple components suggests a complex interplay of different phases or structural arrangements within the material. Given the material composition (Mo-V-Te-Ta oxide), the observed patterns could be related to the formation of different oxide phases, the presence of defects, or the segregation of different elements. The four-fold symmetry in NMF Component 2 is particularly interesting and warrants further investigation to determine its origin.\n",
      "----------------------\n",
      "\n",
      "--- Generated Scientific Claims ---\n",
      "\n",
      "[1] Claim:\n",
      "   The HAADF-STEM image of the Mo-V-Te-Ta oxide catalyst reveals a region exhibiting a four-fold symmetry in its spatial frequency distribution, as evidenced by NMF Component 2.\n",
      "   Scientific Impact: Identifying a four-fold symmetry suggests the presence of a specific crystalline structure or arrangement of atoms, which could be related to the catalytic activity of the material. Understanding the nature of this structure is crucial for optimizing catalyst performance.\n",
      "   Has Anyone Question: No question formulated\n",
      "   Keywords: Mo-V-Te-Ta oxide, HAADF-STEM, NMF, Four-fold symmetry, Crystalline structure\n",
      "----------------------------------------------------------------------\n",
      "\n",
      "[2] Claim:\n",
      "   The NMF analysis of the Mo-V-Te-Ta oxide material indicates a significant heterogeneity in its microstructure, characterized by the presence of three distinct spatial frequency components.\n",
      "   Scientific Impact: Microstructural heterogeneity can significantly impact the material's properties, including its catalytic activity and stability. Identifying and characterizing these different components is essential for understanding the material's behavior.\n",
      "   Has Anyone Question: No question formulated\n",
      "   Keywords: Mo-V-Te-Ta oxide, NMF, Microstructure, Heterogeneity, Spatial frequency\n",
      "----------------------------------------------------------------------\n",
      "\n",
      "[3] Claim:\n",
      "   The broad, low-frequency pattern observed in NMF Component 1 suggests a weakly modulated background structure within the Mo-V-Te-Ta oxide material.\n",
      "   Scientific Impact: This background structure could represent a disordered phase or a weakly crystalline region, which may influence the overall properties of the material. Further investigation is needed to determine its composition and structure.\n",
      "   Has Anyone Question: No question formulated\n",
      "   Keywords: Mo-V-Te-Ta oxide, NMF, Low frequency, Background structure, Disorder\n",
      "----------------------------------------------------------------------\n",
      "\n",
      "[4] Claim:\n",
      "   The HAADF-STEM image shows a generally amorphous or poorly crystalline region within the Mo-V-Te-Ta oxide material, suggesting a lack of long-range order.\n",
      "   Scientific Impact: The amorphous nature of the material could be related to its synthesis conditions or the presence of defects. Understanding the degree of crystallinity is important for predicting its behavior.\n",
      "   Has Anyone Question: No question formulated\n",
      "   Keywords: Mo-V-Te-Ta oxide, HAADF-STEM, Amorphous, Crystallinity, Long-range order\n",
      "----------------------------------------------------------------------\n",
      "\n",
      "[5] Claim:\n",
      "   The spatial distribution of NMF Component 3, characterized by a dispersed pattern, suggests a heterogeneous distribution of a specific structural feature within the Mo-V-Te-Ta oxide material.\n",
      "   Scientific Impact: This heterogeneous distribution could be related to the segregation of different elements or the formation of different phases, which can impact the material's properties.\n",
      "   Has Anyone Question: No question formulated\n",
      "   Keywords: Mo-V-Te-Ta oxide, NMF, Heterogeneous distribution, Spatial pattern, Structural feature\n",
      "----------------------------------------------------------------------\n",
      "\n",
      "Claims saved to: generated_claims.json\n",
      "\n",
      "--- End Claims Generation Workflow ---\n"
     ]
    }
   ],
   "source": [
    "%run exp2claims_local.py"
   ]
  },
  {
   "cell_type": "code",
   "execution_count": null,
   "id": "1e1de5e3-165c-4192-88b1-2ea130fdface",
   "metadata": {},
   "outputs": [],
   "source": []
  }
 ],
 "metadata": {
  "kernelspec": {
   "display_name": "Python 3 (ipykernel)",
   "language": "python",
   "name": "python3"
  },
  "language_info": {
   "codemirror_mode": {
    "name": "ipython",
    "version": 3
   },
   "file_extension": ".py",
   "mimetype": "text/x-python",
   "name": "python",
   "nbconvert_exporter": "python",
   "pygments_lexer": "ipython3",
   "version": "3.12.9"
  }
 },
 "nbformat": 4,
 "nbformat_minor": 5
}
