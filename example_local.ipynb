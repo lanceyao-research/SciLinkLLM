{
 "cells": [
  {
   "cell_type": "markdown",
   "id": "087dad7f-c2f7-40b4-a938-45700ea52a45",
   "metadata": {},
   "source": [
    "Need to install pytorch and transformers first.\n",
    "The weights files are on the hard drive."
   ]
  },
  {
   "cell_type": "code",
   "execution_count": 1,
   "id": "d4682c0e-aa57-4c8e-8a66-f5e5528e6da5",
   "metadata": {},
   "outputs": [
    {
     "name": "stderr",
     "output_type": "stream",
     "text": [
      "2025-04-30 14:20:02,688 - INFO - --- Starting Image Analysis for Scientific Claims ---\n",
      "2025-04-30 14:20:02,688 - INFO - Initializing analysis agent with model: gemma3_12B_local\n"
     ]
    },
    {
     "data": {
      "application/vnd.jupyter.widget-view+json": {
       "model_id": "70dcc9cde96f4741984d03cf7fe636a4",
       "version_major": 2,
       "version_minor": 0
      },
      "text/plain": [
       "Loading checkpoint shards:   0%|          | 0/11 [00:00<?, ?it/s]"
      ]
     },
     "metadata": {},
     "output_type": "display_data"
    },
    {
     "name": "stderr",
     "output_type": "stream",
     "text": [
      "Using a slow image processor as `use_fast` is unset and a slow processor was saved with this model. `use_fast=True` will be the default behavior in v4.52, even if the model was saved with a slow processor. This will result in minor differences in outputs. You'll still be able to use a slow processor with `use_fast=False`.\n",
      "2025-04-30 14:20:14,735 - INFO - Analyzing image for claims: data/oxide_catalyst.npy...\n",
      "2025-04-30 14:20:14,863 - INFO - Attempting to get FFT/NMF parameters from LLM...\n",
      "/home/yaol750/.local/lib/python3.12/site-packages/transformers/generation/configuration_utils.py:636: UserWarning: `do_sample` is set to `False`. However, `top_p` is set to `0.95` -- this flag is only used in sample-based generation modes. You should set `do_sample=True` or unset `top_p`.\n",
      "  warnings.warn(\n",
      "/home/yaol750/.local/lib/python3.12/site-packages/transformers/generation/configuration_utils.py:653: UserWarning: `do_sample` is set to `False`. However, `top_k` is set to `64` -- this flag is only used in sample-based generation modes. You should set `do_sample=True` or unset `top_k`.\n",
      "  warnings.warn(\n"
     ]
    },
    {
     "name": "stdout",
     "output_type": "stream",
     "text": [
      "Image resized from 2048x2048 to 256x256 to fit model context window\n"
     ]
    },
    {
     "name": "stderr",
     "output_type": "stream",
     "text": [
      "2025-04-30 14:20:20,620 - INFO - LLM successfully suggested parameters: window_size=64, n_components=3\n",
      "2025-04-30 14:20:20,621 - INFO - LLM Explanation for FFT/NMF params: The image shows a complex, heterogeneous microstructure likely arising from the multi-component oxide material. The lattice fringes suggest a periodic structure, but the overall morphology is irregular and contains regions with varying contrast. A window size of 64 allows capturing several lattice repetitions while remaining small enough to resolve local variations. Three components are suggested to account for the background, the primary lattice pattern, and potentially a secondary phase or defect structure visible within the material.\n",
      "2025-04-30 14:20:20,621 - INFO - --- Starting Sliding FFT + NMF Analysis ---\n"
     ]
    },
    {
     "name": "stdout",
     "output_type": "stream",
     "text": [
      "Warning: Removing unexpected 'json' from LLM output.\n",
      "Warning: Removing Markdown code block backticks (``` ) from LLM output.\n",
      "Reading image: data/oxide_catalyst.npy\n",
      "Creating windows...\n",
      "Created 125×125 = 15625 windows\n",
      "Computing FFTs...\n",
      "Running NMF analysis...\n"
     ]
    },
    {
     "name": "stderr",
     "output_type": "stream",
     "text": [
      "2025-04-30 14:20:38,739 - INFO - FFT+NMF analysis complete. Components shape: (3, 64, 64), Abundances shape: (3, 125, 125)\n",
      "2025-04-30 14:20:38,739 - INFO - Adding 3 NMF components/abundances as PIL images to prompt.\n"
     ]
    },
    {
     "name": "stdout",
     "output_type": "stream",
     "text": [
      "Saving NumPy arrays...\n"
     ]
    },
    {
     "name": "stderr",
     "output_type": "stream",
     "text": [
      "/home/yaol750/.local/lib/python3.12/site-packages/transformers/generation/configuration_utils.py:636: UserWarning: `do_sample` is set to `False`. However, `top_p` is set to `0.95` -- this flag is only used in sample-based generation modes. You should set `do_sample=True` or unset `top_p`.\n",
      "  warnings.warn(\n",
      "/home/yaol750/.local/lib/python3.12/site-packages/transformers/generation/configuration_utils.py:653: UserWarning: `do_sample` is set to `False`. However, `top_k` is set to `64` -- this flag is only used in sample-based generation modes. You should set `do_sample=True` or unset `top_k`.\n",
      "  warnings.warn(\n",
      "2025-04-30 14:21:24,325 - INFO - --- Analysis Result Received ---\n",
      "2025-04-30 14:21:24,326 - INFO - Claims saved to: generated_claims.json\n",
      "2025-04-30 14:21:24,326 - INFO - --- End Claims Generation Workflow ---\n"
     ]
    },
    {
     "name": "stdout",
     "output_type": "stream",
     "text": [
      "\n",
      "--- Analysis Summary ---\n",
      "The provided High-Angle Annular Dark-Field Scanning Transmission Electron Microscopy (HAADF-STEM) image, along with the associated NMF analysis, reveals a complex microstructure within the Mo-V-Te-Ta oxide material. The HAADF-STEM image itself shows a relatively uniform gray scale, characteristic of a material with a consistent average atomic number. The NMF analysis decomposes the image into three spatial frequency components. NMF Component 1 exhibits a broad, diffuse frequency pattern in the Fourier space, with a corresponding abundance map showing a widespread distribution across the image. This suggests a dominant, low-frequency feature present throughout the material, likely related to the overall lattice structure or a homogeneous phase. NMF Component 2 displays a more distinct pattern with multiple peaks in the frequency space, and its abundance map is also distributed, but with some localized variations. This could indicate the presence of a secondary phase or a region with slightly different structural ordering. NMF Component 3 shows a more complex frequency pattern with a cross-like shape, and its abundance map is concentrated in specific regions. This suggests the presence of localized structural distortions or defects. The presence of these distinct NMF components indicates that the material is not perfectly homogeneous and contains regions with varying structural characteristics. Given the material composition (Mo-V-Te-Ta oxide), the observed patterns could be related to the distribution of these elements, the formation of different oxide phases, or the presence of defects induced during synthesis or processing.\n",
      "----------------------\n",
      "\n",
      "--- Generated Scientific Claims ---\n",
      "\n",
      "[1] Claim:\n",
      "   The HAADF-STEM image of the Mo-V-Te-Ta oxide material reveals a predominantly uniform microstructure, suggesting a relatively homogeneous distribution of constituent elements at the nanoscale.\n",
      "   Scientific Impact: Understanding the homogeneity of the material is crucial for correlating its catalytic properties with its structure. A non-uniform distribution could lead to variations in activity and selectivity.\n",
      "   Has Anyone Question: Has anyone observed similar nanoscale homogeneity in Mo-V-Te-Ta oxide catalysts synthesized using comparable methods?\n",
      "   Keywords: Mo-V-Te-Ta oxide, homogeneity, HAADF-STEM, nanostructure, catalyst\n",
      "----------------------------------------------------------------------\n",
      "\n",
      "[2] Claim:\n",
      "   NMF analysis of the HAADF-STEM image indicates the presence of a low-frequency component, suggesting a dominant, spatially uniform feature likely related to the overall lattice structure of the material.\n",
      "   Scientific Impact: Identifying the dominant lattice structure is essential for understanding the material's fundamental properties and its response to external stimuli.\n",
      "   Has Anyone Question: Has anyone identified a similar low-frequency component in the NMF analysis of other transition metal oxide materials?\n",
      "   Keywords: NMF, frequency component, lattice structure, transition metal oxide, spatial uniformity\n",
      "----------------------------------------------------------------------\n",
      "\n",
      "[3] Claim:\n",
      "   The presence of a distinct NMF component with a cross-like frequency pattern and localized abundance map suggests the existence of localized structural distortions or defects within the Mo-V-Te-Ta oxide material.\n",
      "   Scientific Impact: Defects can significantly influence the catalytic activity and selectivity of the material, making their identification and characterization crucial.\n",
      "   Has Anyone Question: Has anyone observed similar cross-like frequency patterns in NMF analysis of materials containing transition metal oxides and associated with structural defects?\n",
      "   Keywords: NMF, structural distortion, defects, transition metal oxide, localized\n",
      "----------------------------------------------------------------------\n",
      "\n",
      "[4] Claim:\n",
      "   The spatial distribution of NMF Component 2, exhibiting localized variations in abundance, suggests the presence of secondary phases or regions with slightly different structural ordering within the Mo-V-Te-Ta oxide material.\n",
      "   Scientific Impact: The presence of secondary phases can significantly alter the material's properties and performance, warranting further investigation.\n",
      "   Has Anyone Question: Has anyone observed similar localized variations in NMF abundance maps in other multi-component oxide materials?\n",
      "   Keywords: NMF, secondary phase, structural ordering, multi-component oxide, localized variations\n",
      "----------------------------------------------------------------------\n",
      "\n",
      "[5] Claim:\n",
      "   The HAADF-STEM image, combined with NMF analysis, reveals a complex microstructure in the Mo-V-Te-Ta oxide material, indicating a heterogeneous distribution of structural features at the nanoscale.\n",
      "   Scientific Impact: Understanding the heterogeneity of the material is crucial for optimizing its catalytic performance and tailoring its properties for specific applications.\n",
      "   Has Anyone Question: Has anyone correlated the heterogeneity observed in HAADF-STEM images with catalytic activity in similar Mo-V-Te-Ta oxide materials?\n",
      "   Keywords: HAADF-STEM, NMF, heterogeneity, nanoscale, catalytic activity\n",
      "----------------------------------------------------------------------\n",
      "\n",
      "Claims saved to: generated_claims.json\n",
      "\n",
      "--- End Claims Generation Workflow ---\n"
     ]
    }
   ],
   "source": [
    "%run exp2claims_local.py"
   ]
  },
  {
   "cell_type": "code",
   "execution_count": null,
   "id": "8227cf56-742e-41b6-810a-ed2b1a427bae",
   "metadata": {},
   "outputs": [],
   "source": []
  }
 ],
 "metadata": {
  "kernelspec": {
   "display_name": "Python 3 (ipykernel)",
   "language": "python",
   "name": "python3"
  },
  "language_info": {
   "codemirror_mode": {
    "name": "ipython",
    "version": 3
   },
   "file_extension": ".py",
   "mimetype": "text/x-python",
   "name": "python",
   "nbconvert_exporter": "python",
   "pygments_lexer": "ipython3",
   "version": "3.12.9"
  }
 },
 "nbformat": 4,
 "nbformat_minor": 5
}
